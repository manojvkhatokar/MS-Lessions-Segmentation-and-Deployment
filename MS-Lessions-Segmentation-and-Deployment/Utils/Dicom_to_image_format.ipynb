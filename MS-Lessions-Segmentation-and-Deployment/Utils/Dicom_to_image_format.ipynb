{
 "cells": [
  {
   "cell_type": "code",
   "execution_count": 21,
   "metadata": {},
   "outputs": [],
   "source": [
    "import cv2 as cv\n",
    "import os\n",
    "import numpy as np\n",
    "import pydicom as PDCM"
   ]
  },
  {
   "cell_type": "code",
   "execution_count": 22,
   "metadata": {},
   "outputs": [],
   "source": [
    "def Dicom_to_Image(Path):\n",
    "    DCM_Img = PDCM.read_file(Path)\n",
    "\n",
    "    rows = DCM_Img.get(0x00280010).value #Get number of rows from tag (0028, 0010)\n",
    "    cols = DCM_Img.get(0x00280011).value #Get number of cols from tag (0028, 0011)\n",
    "\n",
    "    Instance_Number = int(DCM_Img.get(0x00200013).value) #Get actual slice instance number from tag (0020, 0013)\n",
    "\n",
    "    Window_Center = int(DCM_Img.get(0x00281050).value) #Get window center from tag (0028, 1050)\n",
    "    Window_Width = int(DCM_Img.get(0x00281051).value) #Get window width from tag (0028, 1051)\n",
    "\n",
    "    Window_Max = int(Window_Center + Window_Width / 2)\n",
    "    Window_Min = int(Window_Center - Window_Width / 2)\n",
    "\n",
    "    if (DCM_Img.get(0x00281052) is None):\n",
    "        Rescale_Intercept = 0\n",
    "    else:\n",
    "        Rescale_Intercept = int(DCM_Img.get(0x00281052).value)\n",
    "\n",
    "    if (DCM_Img.get(0x00281053) is None):\n",
    "        Rescale_Slope = 1\n",
    "    else:\n",
    "        Rescale_Slope = int(DCM_Img.get(0x00281053).value)\n",
    "\n",
    "    New_Img = np.zeros((rows, cols), np.uint8)\n",
    "    Pixels = DCM_Img.pixel_array\n",
    "\n",
    "    for i in range(0, rows):\n",
    "        for j in range(0, cols):\n",
    "            Pix_Val = Pixels[i][j]\n",
    "            Rescale_Pix_Val = Pix_Val * Rescale_Slope + Rescale_Intercept\n",
    "\n",
    "            if (Rescale_Pix_Val > Window_Max): #if intensity is greater than max window\n",
    "                New_Img[i][j] = 255\n",
    "            elif (Rescale_Pix_Val < Window_Min): #if intensity is less than min window\n",
    "                New_Img[i][j] = 0\n",
    "            else:\n",
    "                New_Img[i][j] = int(((Rescale_Pix_Val - Window_Min) / (Window_Max - Window_Min)) * 255) #Normalize the intensities\n",
    "\n",
    "    return New_Img, Instance_Number\n"
   ]
  },
  {
   "cell_type": "code",
   "execution_count": 23,
   "metadata": {},
   "outputs": [],
   "source": [
    "input_dir = 'C:\\Projects\\Final Year Project\\Dataset\\MADHU\\MADHU FLAIR\\image\\\\'\n",
    "output_dir = 'C:\\Projects\\Final Year Project\\Dataset\\MADHU\\MADHU FLAIR\\output\\\\'\n",
    "\n",
    "input_image_list = os.listdir(input_dir)\n",
    "\n",
    "if os.path.isdir(output_dir) is False:\n",
    "    os.mkdir(output_dir)\n",
    "    \n",
    "for i in range(0, len(input_image_list)):\n",
    "    output_image, instance_number = Dicom_to_Image(input_dir + '/' + input_image_list[i])\n",
    "    cv.imwrite(output_dir + '/' + str(instance_number - 1).zfill(4) + '.jpg', output_image)"
   ]
  },
  {
   "cell_type": "code",
   "execution_count": null,
   "metadata": {},
   "outputs": [],
   "source": []
  }
 ],
 "metadata": {
  "kernelspec": {
   "display_name": "Python 3",
   "language": "python",
   "name": "python3"
  },
  "language_info": {
   "codemirror_mode": {
    "name": "ipython",
    "version": 3
   },
   "file_extension": ".py",
   "mimetype": "text/x-python",
   "name": "python",
   "nbconvert_exporter": "python",
   "pygments_lexer": "ipython3",
   "version": "3.8.3"
  }
 },
 "nbformat": 4,
 "nbformat_minor": 4
}